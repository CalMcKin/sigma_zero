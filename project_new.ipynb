{
 "cells": [
  {
   "cell_type": "code",
   "execution_count": 1,
   "id": "21289d8f-3901-407b-8cd1-5fead9d3d65c",
   "metadata": {},
   "outputs": [
    {
     "name": "stderr",
     "output_type": "stream",
     "text": [
      "\n",
      "Attaching package: 'dplyr'\n",
      "\n",
      "\n",
      "The following objects are masked from 'package:stats':\n",
      "\n",
      "    filter, lag\n",
      "\n",
      "\n",
      "The following objects are masked from 'package:base':\n",
      "\n",
      "    intersect, setdiff, setequal, union\n",
      "\n",
      "\n",
      "Linking to GEOS 3.13.1, GDAL 3.11.0, PROJ 9.6.0; sf_use_s2() is TRUE\n",
      "\n",
      "\n",
      "Attaching package: 'lubridate'\n",
      "\n",
      "\n",
      "The following objects are masked from 'package:base':\n",
      "\n",
      "    date, intersect, setdiff, union\n",
      "\n",
      "\n"
     ]
    }
   ],
   "source": [
    "# Libraries\n",
    "#install.packages(c(\"sf\",\"dplyr\",\"readr\",\"readr\",\"lubridate\"))\n",
    "#install.packages(\"ggplot2\")\n",
    "# For congestion Pricing and Air Quality\n",
    "library(dplyr) # for data wrangling\n",
    "library(readr) # for reading data\n",
    "library(sf) # for spatial features\n",
    "library(lubridate) # for date-time formatting\n",
    "library(ggplot2)"
   ]
  },
  {
   "cell_type": "code",
   "execution_count": 2,
   "id": "ebaf00f3-6560-44ce-97a9-f61413a370f1",
   "metadata": {},
   "outputs": [
    {
     "name": "stdout",
     "output_type": "stream",
     "text": [
      "Reading layer `counties' from data source \n",
      "  `C:\\Users\\Liam\\Documents\\Cornell\\SYSEN5300\\Project\\Data\\air_quality\\counties.geojson' \n",
      "  using driver `GeoJSON'\n",
      "Simple feature collection with 3221 features and 5 fields\n",
      "Geometry type: MULTIPOLYGON\n",
      "Dimension:     XY\n",
      "Bounding box:  xmin: -179.1743 ymin: 17.91377 xmax: 179.7739 ymax: 71.35256\n",
      "Geodetic CRS:  WGS 84\n"
     ]
    }
   ],
   "source": [
    "path_to_data = paste0(getwd(),\"/Data/\") # Create Path to data\n",
    "# Create paths to data\n",
    "aqi_csv_path = paste0(path_to_data, \"air_quality/air_quality.csv\") # path to aqi CSV\n",
    "aqi_metro_path = paste0(path_to_data, \"air_quality/metro.rds\") # path to metro.rds\n",
    "aqi_sites_path = paste0(path_to_data, \"air_quality/sites.rds\") # path to sites.rds\n",
    "aqi_counties_path = paste0(path_to_data, \"air_quality/counties.geojson\") # path to counties geo data\n",
    "aqi_hw_path = paste0(path_to_data, \"air_quality/highways.rds\") # path to highway data\n",
    "aqi_roads_path = paste0(path_to_data, \"air_quality/roads.rds\") # path to road data\n",
    "cong_metro_path = paste0(path_to_data, \"congestion_pricing/metro.rds\") # path to metro rds from congestion zone data\n",
    "cong_counties_path = paste0(path_to_data, \"congestion_pricing/counties.rds\") # path to congestion zone county data\n",
    "cong_vehicles_path = paste0(path_to_data, \"congestion_pricing/zone_vehicle_entries.rds\") # path to vehicle entries per zone\n",
    "cong_zones_path = paste0(path_to_data, \"congestion_pricing/zone.rds\") # path to congestion pricing zone data\n",
    "cong_roads_path = paste0(path_to_data, \"congestion_pricing/roads.rds\") # path to congestion pricing zone data\n",
    "weather_path = paste0(path_to_data, \"weather/weather.csv\") # path to weather dataset if needed\n",
    "# Data frames\n",
    "aqi_df = read_csv(aqi_csv_path, show_col_types = FALSE)  # Create data frame by reading AQI_QUALITY.CSV \n",
    "cong_zones_df = readRDS(cong_zones_path) # Create data frame for Congestion Zone data\n",
    "aqi_sites_df = read_rds(aqi_sites_path) # Create data from for air quality sites\n",
    "geojson_data <- st_read(aqi_counties_path) # Create GEO JSON data from GEO data from AQI Counties\n",
    "geojson_data = geojson_data %>% rename(county_name = name)  # Rename column to avoid conflicts\n",
    "hw_sf = st_sf(read_rds(aqi_hw_path)) # make a spatial frame from air quality high way data\n",
    "hw_sf = hw_sf %>% rename(hw_fullname=fullname, # rename columns to avoid conflicts\n",
    "                        hw_rttyp = rttyp,\n",
    "                        hw_mtfcc = mtfcc)\n",
    "road_sf = st_sf(read_rds(aqi_roads_path)) # Create spatial data frame from air quality road data\n",
    "road_sf = road_sf %>% rename(road_fullname=fullname, # rename columns to avoid conflicts\n",
    "                        road_rttyp = rttyp,\n",
    "                        road_mtfcc = mtfcc)\n",
    "\n"
   ]
  },
  {
   "cell_type": "code",
   "execution_count": null,
   "id": "64be0006-4908-4171-bb75-649460305400",
   "metadata": {},
   "outputs": [],
   "source": [
    "# Merge and join data \n",
    "merged_aqi_df <- left_join(aqi_df, aqi_sites_df, by = \"aqs_id_full\") # Merge the air quality data in the CSV to the sites data via a join on the AQI ID\n",
    "###### LOCATION FILTER #####\n",
    "geojson_ny = geojson_data %>% filter(state == \"NY\" | state == \"NJ\" | state == \"CT\" | state == \"PA\")\n",
    "geojson_ny_sf = st_as_sf(geojson_ny) # Convert GEO data to spatial data frame\n",
    "merged_aqi_df_sf = st_as_sf(x=merged_aqi_df)  # convert the merged aqi data into spatial data\n",
    "#################TEST SECTION##########\n",
    "#short_aqi_sf = merged_aqi_df_sf[c(1:5),] # Cut down to 5 records so join can be tested\n",
    "#short_aqi_sf %>% glimpse() # Make sure that worked\n",
    "#result = st_join(short_aqi_sf,geojson_ny_sf, join = st_intersects) # perform the join via spatial data, join where the AQI sites intersect with the geo data\n",
    "#result %>% glimpse() # make sure that worked\n",
    "#################TEST SECTION END #######\n",
    "# perform join on full dataset\n",
    "aqi_state_merge = st_join(merged_aqi_df_sf,geojson_ny_sf, join = st_intersects) # join aqi data to geo data to give the dataset counties\n",
    "# aqi_state_merge %>% glimpse()\n",
    "##############TEST SECTION###########\n",
    "aqi_state_merge %>% filter(state == \"NA\") %>% glimpse() # Should not return any rows with state as NA, if it does something failed\n",
    "#################TEST SECTION END #######\n",
    "# WE SHOULD ADD ROADS AND HIGHWAYS WHILE WE ARE AT IT\n",
    "aqi_state_hw_merge = st_join(aqi_state_merge,hw_sf, join = st_nearest_feature) # using a spatial join to the nearest location add highways\n",
    "aqi_state_hw_rd_merge = st_join(aqi_state_hw_merge,road_sf, join = st_nearest_feature) # using a spatial join to the nearest location add roads\n",
    "# Save the dataset\n",
    "saveRDS(aqi_state_hw_rd_merge, file=\"Data/air_quality/combined_data_aqi.rds\")\n",
    "\n",
    "merged_aqi_df %>% glimpse()"
   ]
  },
  {
   "cell_type": "code",
   "execution_count": 3,
   "id": "4c74b52d-95a1-4226-8395-37d4c5178474",
   "metadata": {
    "scrolled": true
   },
   "outputs": [
    {
     "data": {
      "text/html": [
       "<style>\n",
       ".list-inline {list-style: none; margin:0; padding: 0}\n",
       ".list-inline>li {display: inline-block}\n",
       ".list-inline>li:not(:last-child)::after {content: \"\\00b7\"; padding: 0 .5ex}\n",
       "</style>\n",
       "<ol class=list-inline><li>'Brooklyn Bridge'</li><li>'Hugh L. Carey Tunnel'</li><li>'Manhattan Bridge'</li><li>'Williamsburg Bridge'</li><li>'East 60th St'</li><li>'FDR Drive at 60th St'</li><li>'Holland Tunnel'</li><li>'Lincoln Tunnel'</li><li>'Queens Midtown Tunnel'</li><li>'Queensboro Bridge'</li><li>'West 60th St'</li><li>'West Side Highway at 60th St'</li></ol>\n"
      ],
      "text/latex": [
       "\\begin{enumerate*}\n",
       "\\item 'Brooklyn Bridge'\n",
       "\\item 'Hugh L. Carey Tunnel'\n",
       "\\item 'Manhattan Bridge'\n",
       "\\item 'Williamsburg Bridge'\n",
       "\\item 'East 60th St'\n",
       "\\item 'FDR Drive at 60th St'\n",
       "\\item 'Holland Tunnel'\n",
       "\\item 'Lincoln Tunnel'\n",
       "\\item 'Queens Midtown Tunnel'\n",
       "\\item 'Queensboro Bridge'\n",
       "\\item 'West 60th St'\n",
       "\\item 'West Side Highway at 60th St'\n",
       "\\end{enumerate*}\n"
      ],
      "text/markdown": [
       "1. 'Brooklyn Bridge'\n",
       "2. 'Hugh L. Carey Tunnel'\n",
       "3. 'Manhattan Bridge'\n",
       "4. 'Williamsburg Bridge'\n",
       "5. 'East 60th St'\n",
       "6. 'FDR Drive at 60th St'\n",
       "7. 'Holland Tunnel'\n",
       "8. 'Lincoln Tunnel'\n",
       "9. 'Queens Midtown Tunnel'\n",
       "10. 'Queensboro Bridge'\n",
       "11. 'West 60th St'\n",
       "12. 'West Side Highway at 60th St'\n",
       "\n",
       "\n"
      ],
      "text/plain": [
       " [1] \"Brooklyn Bridge\"              \"Hugh L. Carey Tunnel\"        \n",
       " [3] \"Manhattan Bridge\"             \"Williamsburg Bridge\"         \n",
       " [5] \"East 60th St\"                 \"FDR Drive at 60th St\"        \n",
       " [7] \"Holland Tunnel\"               \"Lincoln Tunnel\"              \n",
       " [9] \"Queens Midtown Tunnel\"        \"Queensboro Bridge\"           \n",
       "[11] \"West 60th St\"                 \"West Side Highway at 60th St\""
      ]
     },
     "metadata": {},
     "output_type": "display_data"
    },
    {
     "data": {
      "text/html": [
       "'#####'"
      ],
      "text/latex": [
       "'\\#\\#\\#\\#\\#'"
      ],
      "text/markdown": [
       "'#####'"
      ],
      "text/plain": [
       "[1] \"#####\""
      ]
     },
     "metadata": {},
     "output_type": "display_data"
    },
    {
     "data": {
      "text/html": [
       "<style>\n",
       ".list-inline {list-style: none; margin:0; padding: 0}\n",
       ".list-inline>li {display: inline-block}\n",
       ".list-inline>li:not(:last-child)::after {content: \"\\00b7\"; padding: 0 .5ex}\n",
       "</style>\n",
       "<ol class=list-inline><li>'Brooklyn'</li><li>'East 60th St'</li><li>'FDR Drive'</li><li>'New Jersey'</li><li>'Queens'</li><li>'West 60th St'</li><li>'West Side Highway'</li></ol>\n"
      ],
      "text/latex": [
       "\\begin{enumerate*}\n",
       "\\item 'Brooklyn'\n",
       "\\item 'East 60th St'\n",
       "\\item 'FDR Drive'\n",
       "\\item 'New Jersey'\n",
       "\\item 'Queens'\n",
       "\\item 'West 60th St'\n",
       "\\item 'West Side Highway'\n",
       "\\end{enumerate*}\n"
      ],
      "text/markdown": [
       "1. 'Brooklyn'\n",
       "2. 'East 60th St'\n",
       "3. 'FDR Drive'\n",
       "4. 'New Jersey'\n",
       "5. 'Queens'\n",
       "6. 'West 60th St'\n",
       "7. 'West Side Highway'\n",
       "\n",
       "\n"
      ],
      "text/plain": [
       "[1] \"Brooklyn\"          \"East 60th St\"      \"FDR Drive\"        \n",
       "[4] \"New Jersey\"        \"Queens\"            \"West 60th St\"     \n",
       "[7] \"West Side Highway\""
      ]
     },
     "metadata": {},
     "output_type": "display_data"
    },
    {
     "name": "stdout",
     "output_type": "stream",
     "text": [
      "[1] \"hell yeah\"\n"
     ]
    }
   ],
   "source": [
    "# Merge congestion zone data\n",
    "# I don't really know how to join the sensor data to the locations. It will be with either detection_group or detection region column\n",
    "cong_vehicle_zone_df = readRDS(cong_vehicles_path) # Create a data frame from the data\n",
    "cong_vehicle_zone_df$detection_group %>% unique() # show the unique location in the detection_group column\n",
    "paste(\"#####\")\n",
    "cong_vehicle_zone_df$detection_region %>% unique() # show the unique location in the detection_region column\n",
    "# Based on the outputs detection group look like road names\n",
    "# Lets see if they match up with road data.\n",
    "cong_road_df = readRDS(cong_roads_path)\n",
    "# cong_road_df$fullname # this displays too much data to sift through\n",
    "# try to detect strings\n",
    "if (any(grepl(\"Bridge\", cong_road_df$fullname))){print(\"hell yeah\")}\n",
    "\n"
   ]
  },
  {
   "cell_type": "code",
   "execution_count": 4,
   "id": "98ca5f9f-cd1b-45a1-88a8-6b6f7fef23f3",
   "metadata": {},
   "outputs": [
    {
     "data": {
      "text/html": [
       "<table class=\"dataframe\">\n",
       "<caption>A data.frame: 12 × 2</caption>\n",
       "<thead>\n",
       "\t<tr><th scope=col>cong_name</th><th scope=col>road_name</th></tr>\n",
       "\t<tr><th scope=col>&lt;chr&gt;</th><th scope=col>&lt;chr&gt;</th></tr>\n",
       "</thead>\n",
       "<tbody>\n",
       "\t<tr><td>Brooklyn Bridge             </td><td>Brooklyn Brg            </td></tr>\n",
       "\t<tr><td>Hugh L. Carey Tunnel        </td><td>Hugh L Carey Tunl       </td></tr>\n",
       "\t<tr><td>Manhattan Bridge            </td><td>Manhattan Brg           </td></tr>\n",
       "\t<tr><td>Williamsburg Bridge         </td><td>Williamsburg Brg        </td></tr>\n",
       "\t<tr><td>East 60th St                </td><td>E 60th St               </td></tr>\n",
       "\t<tr><td>FDR Drive at 60th St        </td><td>Fdr Dr                  </td></tr>\n",
       "\t<tr><td>Holland Tunnel              </td><td>Holland Tunl            </td></tr>\n",
       "\t<tr><td>Lincoln Tunnel              </td><td>Lincoln Tunnel (Toll Rd)</td></tr>\n",
       "\t<tr><td>Queens Midtown Tunnel       </td><td>Queens Midtown Tunl     </td></tr>\n",
       "\t<tr><td>Queensboro Bridge           </td><td>Queensboro Brg          </td></tr>\n",
       "\t<tr><td>West 60th St                </td><td>W 60th St               </td></tr>\n",
       "\t<tr><td>West Side Highway at 60th St</td><td>Joe Dimaggio Hwy        </td></tr>\n",
       "</tbody>\n",
       "</table>\n"
      ],
      "text/latex": [
       "A data.frame: 12 × 2\n",
       "\\begin{tabular}{ll}\n",
       " cong\\_name & road\\_name\\\\\n",
       " <chr> & <chr>\\\\\n",
       "\\hline\n",
       "\t Brooklyn Bridge              & Brooklyn Brg            \\\\\n",
       "\t Hugh L. Carey Tunnel         & Hugh L Carey Tunl       \\\\\n",
       "\t Manhattan Bridge             & Manhattan Brg           \\\\\n",
       "\t Williamsburg Bridge          & Williamsburg Brg        \\\\\n",
       "\t East 60th St                 & E 60th St               \\\\\n",
       "\t FDR Drive at 60th St         & Fdr Dr                  \\\\\n",
       "\t Holland Tunnel               & Holland Tunl            \\\\\n",
       "\t Lincoln Tunnel               & Lincoln Tunnel (Toll Rd)\\\\\n",
       "\t Queens Midtown Tunnel        & Queens Midtown Tunl     \\\\\n",
       "\t Queensboro Bridge            & Queensboro Brg          \\\\\n",
       "\t West 60th St                 & W 60th St               \\\\\n",
       "\t West Side Highway at 60th St & Joe Dimaggio Hwy        \\\\\n",
       "\\end{tabular}\n"
      ],
      "text/markdown": [
       "\n",
       "A data.frame: 12 × 2\n",
       "\n",
       "| cong_name &lt;chr&gt; | road_name &lt;chr&gt; |\n",
       "|---|---|\n",
       "| Brooklyn Bridge              | Brooklyn Brg             |\n",
       "| Hugh L. Carey Tunnel         | Hugh L Carey Tunl        |\n",
       "| Manhattan Bridge             | Manhattan Brg            |\n",
       "| Williamsburg Bridge          | Williamsburg Brg         |\n",
       "| East 60th St                 | E 60th St                |\n",
       "| FDR Drive at 60th St         | Fdr Dr                   |\n",
       "| Holland Tunnel               | Holland Tunl             |\n",
       "| Lincoln Tunnel               | Lincoln Tunnel (Toll Rd) |\n",
       "| Queens Midtown Tunnel        | Queens Midtown Tunl      |\n",
       "| Queensboro Bridge            | Queensboro Brg           |\n",
       "| West 60th St                 | W 60th St                |\n",
       "| West Side Highway at 60th St | Joe Dimaggio Hwy         |\n",
       "\n"
      ],
      "text/plain": [
       "   cong_name                    road_name               \n",
       "1  Brooklyn Bridge              Brooklyn Brg            \n",
       "2  Hugh L. Carey Tunnel         Hugh L Carey Tunl       \n",
       "3  Manhattan Bridge             Manhattan Brg           \n",
       "4  Williamsburg Bridge          Williamsburg Brg        \n",
       "5  East 60th St                 E 60th St               \n",
       "6  FDR Drive at 60th St         Fdr Dr                  \n",
       "7  Holland Tunnel               Holland Tunl            \n",
       "8  Lincoln Tunnel               Lincoln Tunnel (Toll Rd)\n",
       "9  Queens Midtown Tunnel        Queens Midtown Tunl     \n",
       "10 Queensboro Bridge            Queensboro Brg          \n",
       "11 West 60th St                 W 60th St               \n",
       "12 West Side Highway at 60th St Joe Dimaggio Hwy        "
      ]
     },
     "metadata": {},
     "output_type": "display_data"
    }
   ],
   "source": [
    "#cong_road_df[grepl(\"Joe\", cong_road_df$fullname), ] # Filter columns to only display values that contain string\n",
    "# List of strings used to find matches: Brooklyn, Manhattan, Hugh, 60, East St, \n",
    "# based on this search Brooklyn Bridge is actually Brooklyn Brg\n",
    "# Hugh L. Carey Tunnel is Hugh L Carey Tunl\n",
    "# Manhattan Bridge is Manhattan Brg\n",
    "# Williamsburg Bridge is Williamsburg Brg\n",
    "# East 60th St is E 60th St\n",
    "# FDR Drive is Fdr Dr\t\n",
    "###  Note for this one specificaly it is FDR Drive intersects East 60th st\n",
    "# Holland Tunnel is Holland Tunl\n",
    "# Lincoln Tunnel is Lincoln Tunnel (Toll Rd)\n",
    "# Queens Midtown Tunnel is Queens Midtown Tunl\n",
    "# Queensboro Bridge is Queensboro Brg\t\n",
    "# West 60th St is W 60th St\n",
    "# West Side Highway at 60th St is Joe Dimaggio Hwy\n",
    "# Note this would have to be where Joe Dimaggio intersects with W 60th st\n",
    "####\n",
    "# Now that we have a translation for the vehicle data locations we can join on those names to give the congestion data spatial data\n",
    "# Create data frame which maps the names\n",
    "tmp_map = data.frame(\n",
    "    cong_name = cong_vehicle_zone_df$detection_group %>% unique()\n",
    "    )\n",
    "tmp_map$road_name = c(\n",
    "    \"Brooklyn Brg\",\n",
    "    \"Hugh L Carey Tunl\",\n",
    "    \"Manhattan Brg\",\n",
    "    \"Williamsburg Brg\",\n",
    "    \"E 60th St\",\n",
    "    \"Fdr Dr\",\n",
    "    \"Holland Tunl\",\n",
    "    \"Lincoln Tunnel (Toll Rd)\",\n",
    "    \"Queens Midtown Tunl\",\n",
    "    \"Queensboro Brg\",\n",
    "    \"W 60th St\",\n",
    "    \"Joe Dimaggio Hwy\"\n",
    "    )\n",
    "tmp_map\n",
    "\n",
    "\n",
    "\n"
   ]
  },
  {
   "cell_type": "code",
   "execution_count": null,
   "id": "c60dbf6d-0cbc-496c-ba88-aeca293a5f55",
   "metadata": {},
   "outputs": [],
   "source": [
    "#cong_vehicle_zone_df$road_name = NA\n",
    "#i = 1 # R is one based\n",
    "#for (gp in cong_vehicle_zone_df$detection_group) {\n",
    "#    j = 1\n",
    "#    for (rd in tmp_map$cong_name){\n",
    "#        if (gp == rd ){\n",
    "#              cong_vehicle_zone_df$road_name[i] = tmp_map$road_name[j]\n",
    "#        }\n",
    "#        j = j + 1\n",
    "#    }\n",
    "#\n",
    "#    i = i + 1\n",
    "#}\n",
    "##merged_aqi_df <- left_join(aqi_df, aqi_sites_df, by = \"aqs_id_full\")\n",
    "#\n",
    "#cong_vehicle_zone_df"
   ]
  },
  {
   "cell_type": "code",
   "execution_count": 12,
   "id": "48724e60-db26-4abe-8dec-443a1f21455a",
   "metadata": {},
   "outputs": [
    {
     "name": "stdout",
     "output_type": "stream",
     "text": [
      "Rows: 1,451,520\n",
      "Columns: 15\n",
      "$ toll_date                \u001b[3m\u001b[90m<date>\u001b[39m\u001b[23m 2025-01-05\u001b[90m, \u001b[39m2025-01-05\u001b[90m, \u001b[39m2025-01-05\u001b[90m, \u001b[39m2025-01-…\n",
      "$ toll_hour                \u001b[3m\u001b[90m<dttm>\u001b[39m\u001b[23m 2025-01-05\u001b[90m, \u001b[39m2025-01-05\u001b[90m, \u001b[39m2025-01-05\u001b[90m, \u001b[39m2025-01-…\n",
      "$ toll_10min_block         \u001b[3m\u001b[90m<dttm>\u001b[39m\u001b[23m 2025-01-05\u001b[90m, \u001b[39m2025-01-05\u001b[90m, \u001b[39m2025-01-05\u001b[90m, \u001b[39m2025-01-…\n",
      "$ minute                   \u001b[3m\u001b[90m<dbl>\u001b[39m\u001b[23m 0\u001b[90m, \u001b[39m0\u001b[90m, \u001b[39m0\u001b[90m, \u001b[39m0\u001b[90m, \u001b[39m0\u001b[90m, \u001b[39m0\u001b[90m, \u001b[39m0\u001b[90m, \u001b[39m0\u001b[90m, \u001b[39m0\u001b[90m, \u001b[39m0\u001b[90m, \u001b[39m0\u001b[90m, \u001b[39m0\u001b[90m, \u001b[39m0\u001b[90m, \u001b[39m0\u001b[90m, \u001b[39m0\u001b[90m, \u001b[39m…\n",
      "$ hour                     \u001b[3m\u001b[90m<dbl>\u001b[39m\u001b[23m 0\u001b[90m, \u001b[39m0\u001b[90m, \u001b[39m0\u001b[90m, \u001b[39m0\u001b[90m, \u001b[39m0\u001b[90m, \u001b[39m0\u001b[90m, \u001b[39m0\u001b[90m, \u001b[39m0\u001b[90m, \u001b[39m0\u001b[90m, \u001b[39m0\u001b[90m, \u001b[39m0\u001b[90m, \u001b[39m0\u001b[90m, \u001b[39m0\u001b[90m, \u001b[39m0\u001b[90m, \u001b[39m0\u001b[90m, \u001b[39m…\n",
      "$ day_int                  \u001b[3m\u001b[90m<dbl>\u001b[39m\u001b[23m 1\u001b[90m, \u001b[39m1\u001b[90m, \u001b[39m1\u001b[90m, \u001b[39m1\u001b[90m, \u001b[39m1\u001b[90m, \u001b[39m1\u001b[90m, \u001b[39m1\u001b[90m, \u001b[39m1\u001b[90m, \u001b[39m1\u001b[90m, \u001b[39m1\u001b[90m, \u001b[39m1\u001b[90m, \u001b[39m1\u001b[90m, \u001b[39m1\u001b[90m, \u001b[39m1\u001b[90m, \u001b[39m1\u001b[90m, \u001b[39m…\n",
      "$ day                      \u001b[3m\u001b[90m<chr>\u001b[39m\u001b[23m \"Sunday\"\u001b[90m, \u001b[39m\"Sunday\"\u001b[90m, \u001b[39m\"Sunday\"\u001b[90m, \u001b[39m\"Sunday\"\u001b[90m, \u001b[39m\"Sund…\n",
      "$ toll_week                \u001b[3m\u001b[90m<date>\u001b[39m\u001b[23m 2025-01-05\u001b[90m, \u001b[39m2025-01-05\u001b[90m, \u001b[39m2025-01-05\u001b[90m, \u001b[39m2025-01-…\n",
      "$ time_period              \u001b[3m\u001b[90m<chr>\u001b[39m\u001b[23m \"Overnight\"\u001b[90m, \u001b[39m\"Overnight\"\u001b[90m, \u001b[39m\"Overnight\"\u001b[90m, \u001b[39m\"Overn…\n",
      "$ vehicle_class            \u001b[3m\u001b[90m<chr>\u001b[39m\u001b[23m \"1 - Cars, Pickups and Vans\"\u001b[90m, \u001b[39m\"1 - Cars, Pick…\n",
      "$ detection_group          \u001b[3m\u001b[90m<chr>\u001b[39m\u001b[23m \"Brooklyn Bridge\"\u001b[90m, \u001b[39m\"Hugh L. Carey Tunnel\"\u001b[90m, \u001b[39m\"M…\n",
      "$ detection_region         \u001b[3m\u001b[90m<chr>\u001b[39m\u001b[23m \"Brooklyn\"\u001b[90m, \u001b[39m\"Brooklyn\"\u001b[90m, \u001b[39m\"Brooklyn\"\u001b[90m, \u001b[39m\"Brooklyn…\n",
      "$ crz_entries              \u001b[3m\u001b[90m<dbl>\u001b[39m\u001b[23m 98\u001b[90m, \u001b[39m17\u001b[90m, \u001b[39m96\u001b[90m, \u001b[39m138\u001b[90m, \u001b[39m208\u001b[90m, \u001b[39m133\u001b[90m, \u001b[39m140\u001b[90m, \u001b[39m152\u001b[90m, \u001b[39m63\u001b[90m, \u001b[39m76\u001b[90m, \u001b[39m…\n",
      "$ excluded_roadway_entries \u001b[3m\u001b[90m<dbl>\u001b[39m\u001b[23m 95\u001b[90m, \u001b[39m22\u001b[90m, \u001b[39m0\u001b[90m, \u001b[39m0\u001b[90m, \u001b[39m0\u001b[90m, \u001b[39m139\u001b[90m, \u001b[39m0\u001b[90m, \u001b[39m0\u001b[90m, \u001b[39m0\u001b[90m, \u001b[39m0\u001b[90m, \u001b[39m0\u001b[90m, \u001b[39m4\u001b[90m, \u001b[39m0\u001b[90m, \u001b[39m3\u001b[90m,\u001b[39m…\n",
      "$ road_name                \u001b[3m\u001b[90m<chr>\u001b[39m\u001b[23m \"Brooklyn Brg\"\u001b[90m, \u001b[39m\"Hugh L Carey Tunl\"\u001b[90m, \u001b[39m\"Manhatt…\n"
     ]
    }
   ],
   "source": [
    "# This is way faster than the for loop\n",
    "cong_vehicle_zone_df$road_name = NA\n",
    "cong_vehicle_zone_df$road_name[cong_vehicle_zone_df$detection_group == \"Brooklyn Bridge\"] = \"Brooklyn Brg\"\n",
    "cong_vehicle_zone_df$road_name[cong_vehicle_zone_df$detection_group == \"Hugh L. Carey Tunnel\"] = \"Hugh L Carey Tunl\"\n",
    "cong_vehicle_zone_df$road_name[cong_vehicle_zone_df$detection_group == \"Manhattan Bridge\"] = \"Manhattan Brg\"\n",
    "cong_vehicle_zone_df$road_name[cong_vehicle_zone_df$detection_group == \"Williamsburg Bridge\"] = \"Williamsburg Brg\"\n",
    "cong_vehicle_zone_df$road_name[cong_vehicle_zone_df$detection_group == \"East 60th St\"] = \"E 60th St\"\n",
    "cong_vehicle_zone_df$road_name[cong_vehicle_zone_df$detection_group == \"FDR Drive at 60th St\"] = \"Fdr Dr\"\n",
    "cong_vehicle_zone_df$road_name[cong_vehicle_zone_df$detection_group == \"Holland Tunnel\"] = \"Holland Tunl\"\n",
    "cong_vehicle_zone_df$road_name[cong_vehicle_zone_df$detection_group == \"Lincoln Tunnel\"] = \"Lincoln Tunnel (Toll Rd)\"\n",
    "cong_vehicle_zone_df$road_name[cong_vehicle_zone_df$detection_group == \"Queens Midtown Tunnel\"] = \"Queens Midtown Tunl\"\n",
    "cong_vehicle_zone_df$road_name[cong_vehicle_zone_df$detection_group == \"Queensboro Bridge\"] = \"Queensboro Brg\"\n",
    "cong_vehicle_zone_df$road_name[cong_vehicle_zone_df$detection_group == \"West 60th St\"] = \"W 60th St\"\n",
    "cong_vehicle_zone_df$road_name[cong_vehicle_zone_df$detection_group == \"West Side Highway at 60th St\"] = \"Joe Dimaggio Hwy\"\n",
    "#cong_vehicle_zone_df[\"road_name\"] <- ifelse(cong_vehicle_zone_df$detection_group == \"Brooklyn Bridge\" , \"Brooklyn Brg\", NA)\n",
    "#cong_vehicle_zone_df[\"road_name\"] <- ifelse(cong_vehicle_zone_df$detection_group == \"Hugh L. Carey Tunnel\" , \"Hugh L Carey Tunl\")\n",
    "cong_vehicle_zone_df %>% glimpse()"
   ]
  },
  {
   "cell_type": "markdown",
   "id": "a3714069-c456-4cba-98ab-02fade30bc13",
   "metadata": {},
   "source": [
    "\n"
   ]
  },
  {
   "cell_type": "code",
   "execution_count": 23,
   "id": "5b1958b1-bcb2-45cf-9cde-96ac35a64874",
   "metadata": {},
   "outputs": [
    {
     "name": "stdout",
     "output_type": "stream",
     "text": [
      "Rows: 6,168,960\n",
      "Columns: 20\n",
      "$ toll_date                \u001b[3m\u001b[90m<date>\u001b[39m\u001b[23m 2025-01-05\u001b[90m, \u001b[39m2025-01-05\u001b[90m, \u001b[39m2025-01-05\u001b[90m, \u001b[39m2025-01-…\n",
      "$ toll_hour                \u001b[3m\u001b[90m<dttm>\u001b[39m\u001b[23m 2025-01-05\u001b[90m, \u001b[39m2025-01-05\u001b[90m, \u001b[39m2025-01-05\u001b[90m, \u001b[39m2025-01-…\n",
      "$ toll_10min_block         \u001b[3m\u001b[90m<dttm>\u001b[39m\u001b[23m 2025-01-05\u001b[90m, \u001b[39m2025-01-05\u001b[90m, \u001b[39m2025-01-05\u001b[90m, \u001b[39m2025-01-…\n",
      "$ minute                   \u001b[3m\u001b[90m<dbl>\u001b[39m\u001b[23m 0\u001b[90m, \u001b[39m0\u001b[90m, \u001b[39m0\u001b[90m, \u001b[39m0\u001b[90m, \u001b[39m0\u001b[90m, \u001b[39m0\u001b[90m, \u001b[39m0\u001b[90m, \u001b[39m0\u001b[90m, \u001b[39m0\u001b[90m, \u001b[39m0\u001b[90m, \u001b[39m0\u001b[90m, \u001b[39m0\u001b[90m, \u001b[39m0\u001b[90m, \u001b[39m0\u001b[90m, \u001b[39m0\u001b[90m, \u001b[39m…\n",
      "$ hour                     \u001b[3m\u001b[90m<dbl>\u001b[39m\u001b[23m 0\u001b[90m, \u001b[39m0\u001b[90m, \u001b[39m0\u001b[90m, \u001b[39m0\u001b[90m, \u001b[39m0\u001b[90m, \u001b[39m0\u001b[90m, \u001b[39m0\u001b[90m, \u001b[39m0\u001b[90m, \u001b[39m0\u001b[90m, \u001b[39m0\u001b[90m, \u001b[39m0\u001b[90m, \u001b[39m0\u001b[90m, \u001b[39m0\u001b[90m, \u001b[39m0\u001b[90m, \u001b[39m0\u001b[90m, \u001b[39m…\n",
      "$ day_int                  \u001b[3m\u001b[90m<dbl>\u001b[39m\u001b[23m 1\u001b[90m, \u001b[39m1\u001b[90m, \u001b[39m1\u001b[90m, \u001b[39m1\u001b[90m, \u001b[39m1\u001b[90m, \u001b[39m1\u001b[90m, \u001b[39m1\u001b[90m, \u001b[39m1\u001b[90m, \u001b[39m1\u001b[90m, \u001b[39m1\u001b[90m, \u001b[39m1\u001b[90m, \u001b[39m1\u001b[90m, \u001b[39m1\u001b[90m, \u001b[39m1\u001b[90m, \u001b[39m1\u001b[90m, \u001b[39m…\n",
      "$ day                      \u001b[3m\u001b[90m<chr>\u001b[39m\u001b[23m \"Sunday\"\u001b[90m, \u001b[39m\"Sunday\"\u001b[90m, \u001b[39m\"Sunday\"\u001b[90m, \u001b[39m\"Sunday\"\u001b[90m, \u001b[39m\"Sund…\n",
      "$ toll_week                \u001b[3m\u001b[90m<date>\u001b[39m\u001b[23m 2025-01-05\u001b[90m, \u001b[39m2025-01-05\u001b[90m, \u001b[39m2025-01-05\u001b[90m, \u001b[39m2025-01-…\n",
      "$ time_period              \u001b[3m\u001b[90m<chr>\u001b[39m\u001b[23m \"Overnight\"\u001b[90m, \u001b[39m\"Overnight\"\u001b[90m, \u001b[39m\"Overnight\"\u001b[90m, \u001b[39m\"Overn…\n",
      "$ vehicle_class            \u001b[3m\u001b[90m<chr>\u001b[39m\u001b[23m \"1 - Cars, Pickups and Vans\"\u001b[90m, \u001b[39m\"1 - Cars, Pick…\n",
      "$ detection_group          \u001b[3m\u001b[90m<chr>\u001b[39m\u001b[23m \"Brooklyn Bridge\"\u001b[90m, \u001b[39m\"Brooklyn Bridge\"\u001b[90m, \u001b[39m\"Brookl…\n",
      "$ detection_region         \u001b[3m\u001b[90m<chr>\u001b[39m\u001b[23m \"Brooklyn\"\u001b[90m, \u001b[39m\"Brooklyn\"\u001b[90m, \u001b[39m\"Brooklyn\"\u001b[90m, \u001b[39m\"Brooklyn…\n",
      "$ crz_entries              \u001b[3m\u001b[90m<dbl>\u001b[39m\u001b[23m 98\u001b[90m, \u001b[39m98\u001b[90m, \u001b[39m98\u001b[90m, \u001b[39m98\u001b[90m, \u001b[39m17\u001b[90m, \u001b[39m17\u001b[90m, \u001b[39m96\u001b[90m, \u001b[39m96\u001b[90m, \u001b[39m96\u001b[90m, \u001b[39m96\u001b[90m, \u001b[39m96\u001b[90m, \u001b[39m9…\n",
      "$ excluded_roadway_entries \u001b[3m\u001b[90m<dbl>\u001b[39m\u001b[23m 95\u001b[90m, \u001b[39m95\u001b[90m, \u001b[39m95\u001b[90m, \u001b[39m95\u001b[90m, \u001b[39m22\u001b[90m, \u001b[39m22\u001b[90m, \u001b[39m0\u001b[90m, \u001b[39m0\u001b[90m, \u001b[39m0\u001b[90m, \u001b[39m0\u001b[90m, \u001b[39m0\u001b[90m, \u001b[39m0\u001b[90m, \u001b[39m0\u001b[90m, \u001b[39m…\n",
      "$ road_name                \u001b[3m\u001b[90m<chr>\u001b[39m\u001b[23m \"Brooklyn Brg\"\u001b[90m, \u001b[39m\"Brooklyn Brg\"\u001b[90m, \u001b[39m\"Brooklyn Brg…\n",
      "$ linearid                 \u001b[3m\u001b[90m<chr>\u001b[39m\u001b[23m \"1105044325432\"\u001b[90m, \u001b[39m\"1105044325433\"\u001b[90m, \u001b[39m\"1104979499…\n",
      "$ rttyp                    \u001b[3m\u001b[90m<chr>\u001b[39m\u001b[23m \"M\"\u001b[90m, \u001b[39m\"M\"\u001b[90m, \u001b[39m\"M\"\u001b[90m, \u001b[39m\"M\"\u001b[90m, \u001b[39m\"M\"\u001b[90m, \u001b[39m\"M\"\u001b[90m, \u001b[39m\"M\"\u001b[90m, \u001b[39m\"M\"\u001b[90m, \u001b[39m\"M\"\u001b[90m, \u001b[39m…\n",
      "$ mtfcc                    \u001b[3m\u001b[90m<chr>\u001b[39m\u001b[23m \"S1200\"\u001b[90m, \u001b[39m\"S1200\"\u001b[90m, \u001b[39m\"S1200\"\u001b[90m, \u001b[39m\"S1200\"\u001b[90m, \u001b[39m\"S1100\"\u001b[90m, \u001b[39m…\n",
      "$ geoid                    \u001b[3m\u001b[90m<chr>\u001b[39m\u001b[23m \"36047\"\u001b[90m, \u001b[39m\"36047\"\u001b[90m, \u001b[39m\"36061\"\u001b[90m, \u001b[39m\"36061\"\u001b[90m, \u001b[39m\"36061\"\u001b[90m, \u001b[39m…\n",
      "$ geometry                 \u001b[3m\u001b[90m<LINESTRING [°]>\u001b[39m\u001b[23m LINESTRING (-73.9945 40.704...\u001b[90m, \u001b[39mLI…\n"
     ]
    }
   ],
   "source": [
    "#cong_road_df = cong_road_df %>% rename(road_name=fullname) # rename columns to avoid conflicts\n",
    "merged_cong <- left_join(cong_vehicle_zone_df, cong_road_df, by = \"road_name\", relationship = \"many-to-many\")\n",
    "\n",
    "glimpse(merged_cong)"
   ]
  },
  {
   "cell_type": "code",
   "execution_count": 24,
   "id": "98c0749d-0b08-4a98-81f1-8fe2ad032752",
   "metadata": {},
   "outputs": [
    {
     "name": "stdout",
     "output_type": "stream",
     "text": [
      "Rows: 51\n",
      "Columns: 7\n",
      "$ cong_name \u001b[3m\u001b[90m<chr>\u001b[39m\u001b[23m \"Brooklyn Bridge\"\u001b[90m, \u001b[39m\"Brooklyn Bridge\"\u001b[90m, \u001b[39m\"Brooklyn Bridge\"\u001b[90m, \u001b[39m\"Br…\n",
      "$ road_name \u001b[3m\u001b[90m<chr>\u001b[39m\u001b[23m \"Brooklyn Brg\"\u001b[90m, \u001b[39m\"Brooklyn Brg\"\u001b[90m, \u001b[39m\"Brooklyn Brg\"\u001b[90m, \u001b[39m\"Brooklyn Br…\n",
      "$ linearid  \u001b[3m\u001b[90m<chr>\u001b[39m\u001b[23m \"1105044325432\"\u001b[90m, \u001b[39m\"1105044325433\"\u001b[90m, \u001b[39m\"1104979499882\"\u001b[90m, \u001b[39m\"11044597…\n",
      "$ rttyp     \u001b[3m\u001b[90m<chr>\u001b[39m\u001b[23m \"M\"\u001b[90m, \u001b[39m\"M\"\u001b[90m, \u001b[39m\"M\"\u001b[90m, \u001b[39m\"M\"\u001b[90m, \u001b[39m\"M\"\u001b[90m, \u001b[39m\"M\"\u001b[90m, \u001b[39m\"M\"\u001b[90m, \u001b[39m\"M\"\u001b[90m, \u001b[39m\"M\"\u001b[90m, \u001b[39m\"M\"\u001b[90m, \u001b[39m\"M\"\u001b[90m, \u001b[39m\"M\"\u001b[90m, \u001b[39m…\n",
      "$ mtfcc     \u001b[3m\u001b[90m<chr>\u001b[39m\u001b[23m \"S1200\"\u001b[90m, \u001b[39m\"S1200\"\u001b[90m, \u001b[39m\"S1200\"\u001b[90m, \u001b[39m\"S1200\"\u001b[90m, \u001b[39m\"S1100\"\u001b[90m, \u001b[39m\"S1100\"\u001b[90m, \u001b[39m\"S1200…\n",
      "$ geoid     \u001b[3m\u001b[90m<chr>\u001b[39m\u001b[23m \"36047\"\u001b[90m, \u001b[39m\"36047\"\u001b[90m, \u001b[39m\"36061\"\u001b[90m, \u001b[39m\"36061\"\u001b[90m, \u001b[39m\"36061\"\u001b[90m, \u001b[39m\"36061\"\u001b[90m, \u001b[39m\"36047…\n",
      "$ geometry  \u001b[3m\u001b[90m<LINESTRING [°]>\u001b[39m\u001b[23m LINESTRING (-73.9945 40.704...\u001b[90m, \u001b[39mLINESTRING (-73.9…\n"
     ]
    }
   ],
   "source": [
    "road_loc <- left_join(tmp_map, cong_road_df, by = \"road_name\", relationship = \"many-to-many\")\n",
    "road_loc %>% glimpse()"
   ]
  },
  {
   "cell_type": "code",
   "execution_count": null,
   "id": "633397be-7d2d-453e-96ac-a645ca60a8cd",
   "metadata": {},
   "outputs": [],
   "source": [
    "# We need to now join the congestion data to the sensor data\n",
    "# For each of the locations found above for the traffic entries we should find the county of the locatoin\n",
    "# For each of the locations found aboce for the traffic entires we should find the nearest 5 sensors to use\n"
   ]
  },
  {
   "cell_type": "code",
   "execution_count": null,
   "id": "bd6e5c24-4b85-4564-a021-5a056323464c",
   "metadata": {},
   "outputs": [],
   "source": [
    "\n",
    "\n",
    "this_data = readRDS(\"Data/air_quality/combined_data_aqi.rds\")\n",
    "this_data %>% glimpse()"
   ]
  },
  {
   "cell_type": "code",
   "execution_count": null,
   "id": "821b1252-185f-4281-8de4-d1ad1e814692",
   "metadata": {},
   "outputs": [],
   "source": [
    "# Lets get to work on a placebo test \n",
    "# https://chabefer.github.io/STCI/Placebo.html\n",
    "# Some info on placebo tests"
   ]
  }
 ],
 "metadata": {
  "kernelspec": {
   "display_name": "R",
   "language": "R",
   "name": "ir"
  },
  "language_info": {
   "codemirror_mode": "r",
   "file_extension": ".r",
   "mimetype": "text/x-r-source",
   "name": "R",
   "pygments_lexer": "r",
   "version": "4.5.1"
  }
 },
 "nbformat": 4,
 "nbformat_minor": 5
}
